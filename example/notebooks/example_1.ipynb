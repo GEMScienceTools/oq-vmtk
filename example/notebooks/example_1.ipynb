{
 "cells": [
  {
   "cell_type": "markdown",
   "id": "8054dda9-8cd5-4d13-9e70-ffbc2f041d05",
   "metadata": {},
   "source": [
    "# Example 1: Ground Motion Records Processing for Intensity Measure Extraction\n",
    "\n",
    "## Introduction\n",
    "\n",
    "This Jupyter Notebook provides a workflow for reading ground motion record files and extracting distinct intensity measure (IM) levels across various IM types. Ground motion intensity measures are essential parameters that characterize the ground shaking and potential impact of seismic records on structures. By extracting these measures, we can better understand the demand imposed by ground motions on structural systems and eventually characterise a probabilistic demand-intensity model to building classes under investigation.\n",
    "\n",
    "The main goals of this notebook are:\n",
    "\n",
    "1. **Read and Process Ground Motion Records**: Load seismic record files. The files should be in a format that allows easy parsing and processing. In this example, each ground-motion record consists of separate accelerations and time csv files.\n",
    "\n",
    "2. **Extract Intensity Measure (IM) Levels**: For each ground motion record, calculate various intensity measures, such as:\n",
    "   - Peak Ground Acceleration (PGA)\n",
    "   - Peak Ground Velocity (PGV)\n",
    "   - Peak Ground Displacement (PGD)\n",
    "   - Spectral Acceleration (SA) at specified periods (0.3s, 0.6s, 1.0s)\n",
    "   - Average Spectral Acceleration (AvgSA) considering a range of 0.2T to 1.5T at specified periods (0.3s, 0.6s, 1.0s)\n",
    "   - Arias Intensity, Significant Duration (D595)\n",
    "  \n",
    "Please note that the library used \"intensityMeasures\" is able to characterise more intensity measure and is always subject for updating to reflect state-of-the-art IM inclusion.\n",
    "\n",
    "3. **Organize and Export Results**: Organize the extracted IM levels for each record, summarizing the results for analysis and potential use in structural modeling and assessment studies. The results are stored into a dictionary type variable and exported into a pickle file. \n",
    "\n",
    "This notebook provides a step-by-step guide to process ground motion records efficiently, extract a wide range of IM types, and present the data in an accessible format. Basic knowledge of earthquake engineering and data processing is recommended to fully utilize the material in this notebook.\n",
    "\n",
    "---\n",
    "\n",
    "## Prerequisites\n",
    "\n",
    "To run this notebook successfully, the following \"non-native\" Python packages are required:\n",
    "-  eqsig: A python package for seismic signal processing, installable via: \"pip install eqsig\"\n",
    "    - Reference: https://eqsig.readthedocs.io/en/latest/\n",
    "\n",
    "---\n",
    "\n",
    "## Workflow Overview\n",
    "\n",
    "1. **Load Libraries and Input Files**: Import the necessary libraries and read in ground motion record files.\n",
    "2. **Process Time-Series Data and Extract Intensity Measures (IMs)**: Parse the ground motion records and prepare them for IM extraction to compute various IMs for each ground motion, storing results in a structured format.\n",
    "3. **Organize and Export IM Data**: Organize the extracted IM levels in a summary table, with options to export the data for further analysis or modeling purposes.\n",
    "\n",
    "By the end of this notebook, users will have a flexible and reusable script for extracting a variety of intensity measures from ground motion records, enabling enhanced seismic analysis and research applications.\n",
    "\n",
    "Let’s start by loading the required libraries and reading in the ground motion records."
   ]
  },
  {
   "cell_type": "markdown",
   "id": "4acf2c83-062a-4ad0-8de3-f0c7842bc763",
   "metadata": {},
   "source": [
    "# Input Parameters"
   ]
  },
  {
   "cell_type": "code",
   "execution_count": null,
   "id": "bb8d4172-a794-46f9-a118-61ee2efe536f",
   "metadata": {},
   "outputs": [],
   "source": [
    "### [REQUIRED INPUT] Define required intensity measure types\n",
    "IMTs = ['PGA','PGV','PGD',\n",
    "        'SA(0.3s)','SA(0.6s)','SA(1.0s)',\n",
    "        'AvgSA(0.3s)','AvgSA(0.6s)','AvgSA(1.0s)',\n",
    "        'AI','D595']"
   ]
  },
  {
   "cell_type": "markdown",
   "id": "32972e45-dd93-48a7-b570-459f2e6765cf",
   "metadata": {},
   "source": [
    "# Initialize Libraries and Modules"
   ]
  },
  {
   "cell_type": "code",
   "execution_count": null,
   "id": "85616c2c-b69d-463c-a172-ff089825c5a4",
   "metadata": {},
   "outputs": [],
   "source": [
    "import time\n",
    "import sys\n",
    "import warnings\n",
    "import os\n",
    "\n",
    "vulnerability_toolkit = os.path.abspath(os.path.join(\"..\",\"..\"))\n",
    "sys.path.append(vulnerability_toolkit)\n",
    "os.chdir(os.path.join(vulnerability_toolkit,'src'))\n",
    "\n",
    "warnings.filterwarnings(\"ignore\") # (I don't condone it, but we use this to suppress all warnings)\n",
    "# Import vulnerability-toolkit libraries\n",
    "from src.im_calculator import *\n",
    "from src.utilities import *\n",
    "from src.plotter import *\n",
    "\n",
    "start = time.time()"
   ]
  },
  {
   "cell_type": "markdown",
   "id": "6b6ef1ce-283a-4491-9a04-6f22f73dfdea",
   "metadata": {},
   "source": [
    "# Load Input Files and Initialise Dictionary"
   ]
  },
  {
   "cell_type": "code",
   "execution_count": null,
   "id": "777c6562-e5d6-47d0-b401-2a3ec7c4218e",
   "metadata": {},
   "outputs": [],
   "source": [
    "# Load the records directory which contains two folders where the time and acceleration arrays of each ground-motion record are stored\n",
    "gmDir = f'{vulnerability_toolkit}/example/in/records' # Records directory path\n",
    "\n",
    "# Fetch the ground-motion records files\n",
    "gmrs = sorted_alphanumeric(os.listdir(f'{gmDir}/acc'))\n",
    "\n",
    "# Initialise the storage dictionary and name the \"keys\" in accordance with the defined IMT\n",
    "ims = {}\n",
    "for i, currentIMT in enumerate(IMTs):    \n",
    "    ims[currentIMT] = []"
   ]
  },
  {
   "cell_type": "markdown",
   "id": "9090f11c-3253-4f78-90c3-204856e4185d",
   "metadata": {},
   "source": [
    "# Process Time-Series Data and Extract Intensity Measure Levels"
   ]
  },
  {
   "cell_type": "code",
   "execution_count": null,
   "id": "7be25bb6-efec-482a-b9e8-36cce8b8a4c4",
   "metadata": {},
   "outputs": [],
   "source": [
    "# Loop over the files\n",
    "for i in range(len(gmrs)):\n",
    "\n",
    "    # Get the acceleration files\n",
    "    fnames = [f'{gmDir}/acc/{gmrs[i]}']\n",
    "    fdts = f'{gmDir}/dts/dts_{i}.csv'\n",
    "    \n",
    "    # define the acceleration time-history\n",
    "    current_acc = pd.read_csv(fnames[0]).to_numpy().flatten()\n",
    "    current_dts = pd.read_csv(fdts)\n",
    "    # define the time-step of the acceleration time-history\n",
    "    dt_gm = pd.read_csv(fdts)[pd.read_csv(fdts).columns[0]].loc[0]\n",
    "    \n",
    "    # Initialise the intensity measure fetching object\n",
    "    im = im_calculator(current_acc,dt_gm) # The class \"intensityMeasure\" is initialised using the acceleration array and the time-step scalar value\n",
    "    \n",
    "    # Get the 5% and 95% time stamps to use as xlim\n",
    "    _, t_end  = eqsig.im.calc_sig_dur_vals(current_acc, dt_gm, start=0.05, end=0.95, se=True)\n",
    "    \n",
    "    # Plot the time-history only for the first iteration (= file)\n",
    "    if i==0:\n",
    "        plt.plot(current_dts, current_acc, lw=LINEWIDTH_3)\n",
    "        plt.xlabel('Pseudo-time [s]', fontsize= FONTSIZE_1)\n",
    "        plt.ylabel('Acceleration [g]', fontsize = FONTSIZE_1)\n",
    "        plt.grid(visible=True, which='major')\n",
    "        plt.grid(visible=True, which='minor')\n",
    "        plt.xlim([0.00, t_end+5])\n",
    "        plt.show()\n",
    "    \n",
    "    ### Get acceleration response spectrum and other ims\n",
    "    prd, sas = im.get_spectrum()\n",
    "    pga, pgv, pgd = im.get_amplitude_ims()\n",
    "    ai, cav, d595 = im.get_duration_ims()\n",
    "    \n",
    "    if i==0:\n",
    "        plt.plot(prd, sas, lw=LINEWIDTH_3)\n",
    "        plt.xlabel('Period [s]', fontsize= FONTSIZE_1)\n",
    "        plt.ylabel('Spectral Acceleration [g]', fontsize = FONTSIZE_1)\n",
    "        plt.grid(visible=True, which='major')\n",
    "        plt.grid(visible=True, which='minor')\n",
    "        plt.xlim([0.00, 4.00])\n",
    "        plt.show()\n",
    "\n",
    "    ### Calculate the intensity measures\n",
    "    for j, currentIMT in enumerate(IMTs):\n",
    "\n",
    "        # NOTE: IGNORE THE WARNINGS DISPLAYED ON THE SCREEN\n",
    "        # PLEASE VISIT THE DOCUMENTATION AVAILABLE ON THE GITHUB REPOSITORY FOR MORE INFORMATION ON THE \"intensityMeasure\" CLASS\n",
    "        \n",
    "        if currentIMT == 'PGA':\n",
    "            ims[currentIMT].append(pga) # The get_amplitude_ims() method returns the amplitude-based IMs (i.e., PGA, PGV and PGD and in this order)\n",
    "        elif currentIMT == 'PGV':\n",
    "            ims[currentIMT].append(pgv) # The get_amplitude_ims() method returns the amplitude-based IMs (i.e., PGA, PGV and PGD and in this order)\n",
    "        elif currentIMT == 'PGD':\n",
    "            ims[currentIMT].append(pgd) # The get_amplitude_ims() method returns the amplitude-based IMs (i.e., PGA, PGV and PGD and in this order)\n",
    "                        \n",
    "        elif currentIMT == 'SA(0.3s)':\n",
    "            ims[currentIMT].append(im.get_sa(prd,sas,0.3)) # The get_sa(periods, spectral_accelerations, SYSTEM_PERIOD) method returns the spectral acceleration at the designated SYSTEM PERIOD (in this case 0.3s)                                                                \n",
    "        elif currentIMT == 'SA(0.6s)':\n",
    "            ims[currentIMT].append(im.get_sa(prd,sas,0.6)) # The get_sa(periods, spectral_accelerations, SYSTEM_PERIOD) method returns the spectral acceleration at the designated SYSTEM PERIOD (in this case 0.6s)\n",
    "        elif currentIMT == 'SA(1.0s)':\n",
    "            ims[currentIMT].append(im.get_sa(prd,sas,1.0)) # The get_sa(periods, spectral_accelerations, SYSTEM_PERIOD) method returns the spectral acceleration at the designated SYSTEM PERIOD (in this case 1.0s)\n",
    "\n",
    "        elif currentIMT == 'AvgSA(0.3s)':\n",
    "            ims[currentIMT].append(im.get_saavg(prd,sas,0.3)) # The get_saavg(periods, spectral_accelerations, SYSTEM_PERIOD) method returns the average spectral acceleration ranging from 0.2 to 1.5 the designated SYSTEM PERIOD (in this case 0.3s)                                                                \n",
    "        elif currentIMT == 'AvgSA(0.6s)':\n",
    "            ims[currentIMT].append(im.get_saavg(prd,sas,0.6)) # The get_saavg(periods, spectral_accelerations, SYSTEM_PERIOD) method returns the average spectral acceleration ranging from 0.2 to 1.5 the designated SYSTEM PERIOD (in this case 0.6s)\n",
    "        elif currentIMT == 'AvgSA(1.0s)':\n",
    "            ims[currentIMT].append(im.get_saavg(prd,sas,1.0)) # The get_saavg(periods, spectral_accelerations, SYSTEM_PERIOD) method returns the average spectral acceleration ranging from 0.2 to 1.5 the designated SYSTEM PERIOD (in this case 1.0s)\n",
    "            \n",
    "        elif currentIMT == 'AI':\n",
    "            ims[currentIMT].append(ai) # The get_duration_ims() method returns the duration-based IMs (i.e., Arias Intensity, Significant Duration (5-75) and Significant Duration (5-95) and in this order) \n",
    "        elif currentIMT == 'D595':\n",
    "            ims[currentIMT].append(d595) # The get_duration_ims() method returns the duration-based IMs (i.e., Arias Intensity, Significant Duration (5-75) and Significant Duration (5-95) and in this order)"
   ]
  },
  {
   "cell_type": "markdown",
   "id": "d3b781f7-7bb7-49b0-b320-1ad380b98f00",
   "metadata": {},
   "source": [
    "# Organize and Export IM Data"
   ]
  },
  {
   "cell_type": "code",
   "execution_count": null,
   "id": "183260d7-37af-4fe5-9e74-2c078caf64d1",
   "metadata": {},
   "outputs": [],
   "source": [
    "# Export to pickle format using the export_to_pkl function imported from utilities\n",
    "export_to_pkl(f'{gmDir}/ims.pkl', ims)"
   ]
  },
  {
   "cell_type": "code",
   "execution_count": null,
   "id": "1a862717-4f84-479c-9224-90d8efed84d3",
   "metadata": {},
   "outputs": [],
   "source": [
    "end = time.time()\n",
    "print('Elapsed Time:', (end - start)/60, 'minutes')"
   ]
  }
 ],
 "metadata": {
  "kernelspec": {
   "display_name": "Python 3 (ipykernel)",
   "language": "python",
   "name": "python3"
  },
  "language_info": {
   "codemirror_mode": {
    "name": "ipython",
    "version": 3
   },
   "file_extension": ".py",
   "mimetype": "text/x-python",
   "name": "python",
   "nbconvert_exporter": "python",
   "pygments_lexer": "ipython3",
   "version": "3.11.7"
  }
 },
 "nbformat": 4,
 "nbformat_minor": 5
}
