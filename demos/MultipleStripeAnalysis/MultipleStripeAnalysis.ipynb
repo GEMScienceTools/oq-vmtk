{
 "cells": [
  {
   "cell_type": "markdown",
   "id": "6fe0e77c-6eaa-4a6b-ba94-7aab2c8124a0",
   "metadata": {},
   "source": [
    "# Multiple Stripe Analysis on MDOF System\n",
    "\n",
    "## Introduction\n",
    "\n",
    "This Jupyter Notebook outlines a structured workflow for conducting nonlinear time-history analysis (NLTHA), specifically multiple stripe analysis, on multi-degree-of-freedom (MDOF) structural models. The analysis uses a set of spectrally matched ground-motion records, selected based on classical probabilistic seismic hazard and disaggregation analysis for a site in L'Aquila.\n",
    "\n",
    "Ground-motion records were selected for nine return periods: 22, 42, 72, 140, 250, 475, 975, 2475, and 4975 years. These records were chosen using the Conditional Mean Spectrum (CMS) method, with the average spectral acceleration at 0.3 seconds used as the intensity measure.\n",
    "\n",
    "The selected ground-motion records can be found in the \"Records\" folder. Each return period has its own folder containing a \"Selected.PDF\" file, which includes the conditional spectra showing the target median, variability, and the selected records.\n",
    "\n",
    "The main goals of this notebook:\n",
    "\n",
    "1. **Calibrate MDOF models based on single-degree-of-freedom (SDOF) oscillator capacity**: Calibrate storey-based force-deformation relationships using SDOF capacity curve definition (spectral displacement-spectral acceleration) based on the methodology of Lu et al. (2020) and other modifications to account for distinct response typologies (i.e., bilinear, trilinear and quadrilinear backbone definitions)\n",
    "\n",
    "2. **Compile and construct MDOF Models in OpenSees**: Define and assemble MDOF models by specifying essential structural properties, including:\n",
    "   - Mass, heights, fundamental period, etc.\n",
    "   - Nonlinear response characteristics at each degree of freedom\n",
    "\n",
    "3. **Run Nonlinear Time-History Analysis (NLTHA) in OpenSees**: Simulate the dynamic response of MDOF structures under time-dependent inputs, such as ground motion records, to realistically assess structural behavior and response metrics (e.g., peak storey drifts, peak floor accelerations) under loading conditions and extract critical response metrics and model information.\n",
    "\n",
    "4. **Fragility Analysis**: Postprocess multiple stripe analysis results using maximum likelihood estimation (MLE) to directly derive fragility functions. This approach estimates the median seismic intensity and total dispersion associated with specified demand thresholds (e.g., maximum interstorey drift), and defines the probability of exceeding damage states as a function of increasing ground shaking intensity.\n",
    "\n",
    "5. **Vulnerability Analysis**: Integrate fragility functions with consequence models (i.e., damage-to-loss models) to determine the continuous relationship between a decision variable and increasing levels of ground-shaking.\n",
    "\n",
    "The notebook provides a step-by-step guide, covering each phase from MDOF model calibration, setup to input parameter configuration, analysis execution, and detailed results extraction and postprocessing. Users should have some familiarity with python scripts, structural dynamics, computational modeling, and performance-based earthquake engineering to fully benefit from this material.\n",
    "\n",
    "---\n",
    "\n",
    "## References\n",
    "\n",
    "[1] Jalayer, F. and Cornell, C.A. (2009), Alternative non-linear demand estimation methods for probability-based seismic assessments. Earthquake Engng. Struct. Dyn., 38: 951-972. https://doi.org/10.1002/eqe.876\n",
    "\n",
    "[2] Baker JW. Efficient Analytical Fragility Function Fitting Using Dynamic Structural Analysis. Earthquake Spectra. 2015;31(1):579-599. doi:10.1193/021113EQS025M\n",
    "\n",
    "[3] Lu X, McKenna F, Cheng Q, Xu Z, Zeng X, Mahin SA. An open-source framework for regional earthquake loss estimation using the city-scale nonlinear time history analysis. Earthquake Spectra. 2020;36(2):806-831. doi:10.1177/8755293019891724"
   ]
  },
  {
   "cell_type": "markdown",
   "id": "7072f974-ca4e-414e-899d-313f8205771f",
   "metadata": {},
   "source": [
    "## Initialize Libraries ##"
   ]
  },
  {
   "cell_type": "code",
   "execution_count": 2,
   "id": "d1de6d64-03e2-4276-a6ce-f855e393f9fc",
   "metadata": {},
   "outputs": [],
   "source": [
    "import os\n",
    "import sys\n",
    "import shutil\n",
    "import numpy as np\n",
    "import pandas as pd\n",
    "import matplotlib.pyplot as plt\n",
    "\n",
    "# Import the classes necessary for structural analysis\n",
    "from openquake.vmtk.units         import units              # oq-vtmk units class\n",
    "from openquake.vmtk.calibration   import calibrate_model    # oq-vmtk sdof-to-mdof calibration class\n",
    "from openquake.vmtk.modeller      import modeller           # oq-vmtk numerical modelling class\n",
    "from openquake.vmtk.postprocessor import postprocessor      # oq-vtmk postprocessing class\n",
    "from openquake.vmtk.plotter       import plotter            # oq-vmtk plotting class\n",
    "from openquake.vmtk.utilities     import sorted_alphanumeric, import_from_pkl, export_to_pkl # oq-vmtk utility class"
   ]
  },
  {
   "cell_type": "markdown",
   "id": "36bd9457-aa50-4e8a-ae0f-4aae4b25c51e",
   "metadata": {},
   "source": [
    "## Define Directories ##"
   ]
  },
  {
   "cell_type": "code",
   "execution_count": 3,
   "id": "5178e7cd-2fb1-4a38-a8f3-9f08fd888a82",
   "metadata": {},
   "outputs": [],
   "source": [
    "# Define the directory of the ground-motion records\n",
    "gm_directory  = './Records'            \n",
    "\n",
    "# Define the main output directory\n",
    "nrha_directory = './Output'  \n",
    "os.makedirs(nrha_directory, exist_ok=True)\n",
    "\n",
    "# Define directory for temporary analysis outputs: it is used to store temporary .txt files used as accelerations recorders\n",
    "temp_nrha_directory = os.path.join(nrha_directory,'temp')\n",
    "os.makedirs(temp_nrha_directory, exist_ok=True)"
   ]
  },
  {
   "cell_type": "markdown",
   "id": "b31f23d5-d0f6-4e95-9747-0c6a165f7ae8",
   "metadata": {},
   "source": [
    "## Required Input Parameters ##"
   ]
  },
  {
   "cell_type": "markdown",
   "id": "6a8204a2-b287-45a1-aa08-30c09483da65",
   "metadata": {},
   "source": [
    "### Modelling Input Parameters ###"
   ]
  },
  {
   "cell_type": "code",
   "execution_count": 4,
   "id": "7ac31556-da42-4842-b03d-28aa012be0e1",
   "metadata": {},
   "outputs": [],
   "source": [
    "# Number of storeys\n",
    "number_storeys = 3\n",
    "\n",
    "# Relative floor heights list\n",
    "floor_heights = [2.80, 2.80, 2.80]\n",
    "\n",
    "# First-mode based participation factor\n",
    "gamma = 1.25\n",
    "\n",
    "# SDOF capacity (First row are Spectral Displacement [m] values - Second row are Spectral Acceleration [g] values)\n",
    "sdof_capacity = np.array([[4.46E-02,1.89E-01], \n",
    "                          [1.14E+00,1.15E+00]]).T\n",
    "# Frame flag\n",
    "isFrame = False\n",
    "\n",
    "# Soft-storey mechanism flag\n",
    "isSOS = False\n",
    "\n",
    "# Degradation flag \n",
    "mdof_degradation = True\n",
    "\n",
    "# Inherent damping \n",
    "mdof_damping = 0.03"
   ]
  },
  {
   "cell_type": "markdown",
   "id": "ac0e6e9e-0c73-40ba-a129-256a6d233724",
   "metadata": {},
   "source": [
    "### Fragility and Vulnerability Input Parameters ###"
   ]
  },
  {
   "cell_type": "code",
   "execution_count": 9,
   "id": "da6505a1-96c5-4c1a-9935-ba646422e05c",
   "metadata": {},
   "outputs": [],
   "source": [
    "# Damage thresholds (maximum peak storey drift values in rad)\n",
    "damage_thresholds    =  [0.0050, 0.0100, 0.0150, 0.030] \n",
    "\n",
    "# Define consequence model to relate structural damage to a decision variable (i.e., expected loss ratio) \n",
    "consequence_model = [0.05, 0.20, 0.60, 1.00] # damage-to-loss ratios"
   ]
  },
  {
   "cell_type": "markdown",
   "id": "28911a61-464a-44dc-8391-789f81e3ca65",
   "metadata": {},
   "source": [
    "## Multiple Stripe Analysis ##"
   ]
  },
  {
   "cell_type": "markdown",
   "id": "a8dced91-331e-4aeb-8d26-e0b31f30f3a5",
   "metadata": {},
   "source": [
    "Multiple Stripe Analysis (MSA) involves subjecting a structural model to suites of ground motion records that are scaled to specific intensity measure (IM) levels, called \"stripes\", across a range of seismic intensities. Often, records are spectrally matched or selected using the Conditional Mean Spectrum (CMS) approach. Thus, at each stripe (IM level), multiple spectrally compatible records are used to account for record-to-record variability. The method provides statistical distributions of response at each demand-based damage threshold, useful for fragility assessment via methods like Maximum Likelihood Estimation (MLE). The analysis results are then used to evaluate the probability of exceeding certain performance thresholds (e.g., drift limits), enabling the construction of fragility functions."
   ]
  },
  {
   "cell_type": "markdown",
   "id": "93f33987-1078-45ec-a602-d1d3c44e93a4",
   "metadata": {},
   "source": [
    "### Multiple Stripe Analysis - Part 1: Calibrate MDOF Model based on SDOF Capacity Definition ###\n",
    "\n",
    "#### The calibration function (calibrate_model) requires five input arguments:\n",
    "1. Number of storeys\n",
    "2. First-mode transformation factor (gamma)\n",
    "3. The capacity array of the single degree-of-freedom oscillator\n",
    "4. Boolean flag whether the lateral load-resisting system for the considered building class is moment-resisting frames or braced frames (or not)\n",
    "5. Boolean flag whether the building class expects a soft-storey mechanism to be activated (or not)\n",
    "#### The calibration function (calibrate_model) returns four output variables:\n",
    "1. The floor mass array to be assigned to the MDOF model generator (floor_masses)\n",
    "2. The storey deformation (in m) capacity to be assigned to the MDOF model generator (storey_disps)\n",
    "3. The acceleration capacity (in g) to be assigned to the MDOF model generator (storey_forces)\n",
    "4. The considered mode shape (mdof_phi)"
   ]
  },
  {
   "cell_type": "code",
   "execution_count": 8,
   "id": "4526601f-bf41-4cf9-a201-fa51ba79a24e",
   "metadata": {},
   "outputs": [
    {
     "name": "stdout",
     "output_type": "stream",
     "text": [
      "The mass of each floor (in tonnes): [0.3953083755249415, 0.3953083755249415, 0.29648128164370613]\n",
      "The first-mode shape used for calibration: [0.46774089 0.82856649 1.        ]\n"
     ]
    },
    {
     "data": {
      "image/png": "[encoded data removed]",
      "text/plain": [
       "<Figure size 640x480 with 1 Axes>"
      ]
     },
     "metadata": {},
     "output_type": "display_data"
    }
   ],
   "source": [
    "# Calibrate the model using the Lu et al. (2020) method\n",
    "floor_masses, storey_disps, storey_forces, mdof_phi = calibrate_model(number_storeys, gamma, sdof_capacity, isFrame, isSOS)\n",
    "\n",
    "print('The mass of each floor (in tonnes):', floor_masses)\n",
    "print('The first-mode shape used for calibration:', mdof_phi)\n",
    "\n",
    "# Plot the capacities to visualise the outcome of the calibration\n",
    "for i in range(storey_disps.shape[0]):\n",
    "   plt.plot(np.concatenate(([0.0], storey_disps[i,:])), np.concatenate(([0.0], storey_forces[i,:]*9.81)), label = f'Storey #{i+1}')\n",
    "plt.plot(np.concatenate(([0.0], sdof_capacity[:,0])), np.concatenate(([0.0], sdof_capacity[:,1]*9.81)), label = 'SDOF Capacity')\n",
    "plt.xlabel('Storey Deformation [m]', fontsize= 16)\n",
    "plt.ylabel('Storey Shear [kN]', fontsize = 16)\n",
    "plt.legend(loc = 'lower right')\n",
    "plt.grid(visible=True, which='major')\n",
    "plt.grid(visible=True, which='minor')\n",
    "plt.xlim([0.00, 0.03])\n",
    "plt.show()"
   ]
  },
  {
   "cell_type": "markdown",
   "id": "5d4d708c-67f0-4fb4-98c7-9c1f1be174d5",
   "metadata": {},
   "source": [
    "### Multiple Stripe Analysis - Part 2: Setting Up, Running and Exporting Analysis ###"
   ]
  },
  {
   "cell_type": "code",
   "execution_count": null,
   "id": "4fc3eba5-5da5-48b6-a117-5b45ac7bb276",
   "metadata": {},
   "outputs": [],
   "source": [
    "# Initialise MDOF storage lists\n",
    "conv_index_list = []               # List for convergence indices\n",
    "peak_disp_list  = []               # List for peak floor displacement (returns all peak values along the building height)\n",
    "peak_drift_list = []               # List for peak storey drift (returns all peak values along the building height)\n",
    "peak_accel_list = []               # List for peak floor acceleration (returns all peak values along the building height)\n",
    "max_peak_drift_list = []           # List for maximum peak storey drift (returns the maximum value) \n",
    "max_peak_accel_list = []           # List for maximum peak floor acceleration (returns the maximum value)\n",
    "\n",
    "# Loop over ground-motion records, compile MDOF model and run NLTHA\n",
    "gmrs = sorted_alphanumeric(os.listdir(os.path.join(gm_directory,'acc')))                         # Sort the ground-motion records alphanumerically\n",
    "dts  = sorted_alphanumeric(os.listdir(os.path.join(gm_directory,'dts')))                         # Sort the ground-motion time-step files alphanumerically\n",
    "\n",
    "# Run the analysis\n",
    "for i in range(len(gmrs)):\n",
    "    ### Print post-processing iteration\n",
    "    print('================================================================')\n",
    "    print('============== Analysing: {:d} out of {:d} =================='.format(i+1, len(gmrs)))\n",
    "    print('================================================================')\n",
    "\n",
    "    ### Compile the MDOF model    \n",
    "    model = modeller(number_storeys,\n",
    "                     floor_heights,\n",
    "                     floor_masses,\n",
    "                     storey_disps,\n",
    "                     storey_forces*units.g,\n",
    "                     mdof_degradation)                                                                # Initialise the class (Build the model)\n",
    "    \n",
    "    model.compile_model()                                                                             # Compile the MDOF model\n",
    "    \n",
    "    if i==0:\n",
    "        model.plot_model()                                                                            # Visualise the model (only on first iteration)        \n",
    "    model.do_gravity_analysis()                                                                       # Do gravity analysis\n",
    "\n",
    "    if number_storeys == 1:\n",
    "        num_modes = 1\n",
    "    else:\n",
    "        num_modes = 3\n",
    "    T, phi = model.do_modal_analysis(num_modes = num_modes)                                           # Do modal analysis and get period of vibration (Essential step for running NLTHA)\n",
    "\n",
    "    ### Define ground motion objects\n",
    "    fnames = [os.path.join(gm_directory,'acc',f'{gmrs[i]}')]                                          # Ground-motion record names\n",
    "    fdts   =  os.path.join(gm_directory,'dts',f'{dts[i]}')                                            # Ground-motion time-step names \n",
    "    dt_gm = pd.read_csv(fdts, header=None)[pd.read_csv(fdts,header=None).columns[0]].loc[1]-\\\n",
    "            pd.read_csv(fdts, header=None)[pd.read_csv(fdts,header=None).columns[0]].loc[0]           # Ground-motion time-step\n",
    "    t_max = pd.read_csv(fdts)[pd.read_csv(fdts).columns[0]].iloc[-1]                                  # Ground-motion duration\n",
    "    \n",
    "    ### Define analysis params and do NLTHA\n",
    "    dt_ansys = dt_gm                                                            # Set the analysis time-step\n",
    "    sf = units.g                                                                # Set the scaling factor (if records are in g, a scaling factor of 9.81 m/s2 must be used to be consistent with opensees) \n",
    "    control_nodes, conv_index, peak_drift, peak_accel, max_peak_drift, max_peak_drift_dir, max_peak_drift_loc, max_peak_accel, max_peak_accel_dir, max_peak_accel_loc, peak_disp = model.do_nrha_analysis(fnames, \n",
    "                                                                                                                                                                                                          dt_gm, \n",
    "                                                                                                                                                                                                          sf, \n",
    "                                                                                                                                                                                                          t_max, \n",
    "                                                                                                                                                                                                          dt_ansys,\n",
    "                                                                                                                                                                                                          temp_nrha_directory,\n",
    "                                                                                                                                                                                                          pflag=False,\n",
    "                                                                                                                                                                                                          xi = mdof_damping)\n",
    "\n",
    "    ### Store the analysis\n",
    "    conv_index_list.append(conv_index)\n",
    "    peak_drift_list.append(peak_drift)\n",
    "    peak_accel_list.append(peak_accel)\n",
    "    peak_disp_list.append(peak_disp)\n",
    "    max_peak_drift_list.append(max_peak_drift)\n",
    "    max_peak_accel_list.append(max_peak_accel)\n",
    "\n",
    "# Remove the temporary directory\n",
    "shutil.rmtree(f'{temp_nrha_directory}')\n",
    "\n",
    "# Store the analysis results in a dictionary\n",
    "ansys_dict = {}\n",
    "labels = ['T','control_nodes', 'conv_index_list',\n",
    "          'peak_drift_list','peak_accel_list',\n",
    "          'max_peak_drift_list', 'max_peak_drift_dir_list', \n",
    "          'max_peak_drift_loc_list','max_peak_accel_list',\n",
    "          'max_peak_accel_dir_list','max_peak_accel_loc_list',\n",
    "          'peak_disp_list']\n",
    "\n",
    "for i, label in enumerate(labels):\n",
    "    ansys_dict[label] = vars()[f'{label}']\n",
    "# Export the analysis output variable to a pickle file using the \"export_to_pkl\" function from \"utilities\"\n",
    "export_to_pkl(os.path.join(nrha_directory,'ansys_out.pkl'), ansys_dict) \n",
    "\n",
    "print('ANALYSIS COMPLETED!')"
   ]
  }
 ],
 "metadata": {
  "kernelspec": {
   "display_name": "Python 3 (ipykernel)",
   "language": "python",
   "name": "python3"
  },
  "language_info": {
   "codemirror_mode": {
    "name": "ipython",
    "version": 3
   },
   "file_extension": ".py",
   "mimetype": "text/x-python",
   "name": "python",
   "nbconvert_exporter": "python",
   "pygments_lexer": "ipython3",
   "version": "3.11.13"
  }
 },
 "nbformat": 4,
 "nbformat_minor": 5
}
