{
 "cells": [
  {
   "cell_type": "markdown",
   "id": "c56e824c-36d5-4f07-8f17-7b481be12f44",
   "metadata": {},
   "source": [
    "# SDOF and MDOF Model Calibration and Compilation\n",
    "\n",
    "## Introduction\n",
    "\n",
    "This Jupyter Notebook presents a structured workflow for the calibration and modelling of simplified/idealised structural models in OpenSees, namely single- and multi-degree-of-freedom systems. \n",
    "\n",
    "The main applications of this notebook are:\n",
    "\n",
    "1. **Compile and construct SDOF Models in OpenSees**: Construction of SDOF representations by defining essential structural properties such as mass, height and nonlinear capacity. The first example includes an implementation of nonlinear force-deformation capacity to capture post-elastic behavior powered by OpenseesPy.\n",
    "\n",
    "2. **Compile and construct MDOF Stick-and-Mass Models in OpenSees**: Construction of MDOF stick-and-mass models, in which each floor is represented as a lumped mass connected by nonlinear springs capturing lateral stiffness and yielding. The second example requires specification of building properties including mass distribution, inter-story stiffness, damping, and nonlinear response characteristics and the implementation of nonlinear force-deformation to capture post-elastic behavior powered by OpenseesPy.\n",
    "\n",
    "3. **Calibrate and compile MDOF Models Based on SDOF Capacity and Parameters**: The third example aims at establishing consistency between the SDOF and MDOF representations by calibrating inter-story properties of the MDOF model using target capacity curves derived from the SDOF model. Adjustment of parameters such as stiffness, yield strength, and post-yield behavior to ensure that the global capacity of the MDOF model reflects that of the reference SDOF system.\n",
    "\n",
    "This integrated workflow provides a foundation for both simplified and detailed seismic performance assessment, while demonstrating how calibrated MDOF models can be informed by equivalent SDOF capacities for more accurate regional or portfolio-level evaluations.\n",
    "\n",
    "---\n",
    "\n",
    "## References\n",
    "\n",
    "[1] Lu X, McKenna F, Cheng Q, Xu Z, Zeng X, Mahin SA. An open-source framework for regional earthquake loss estimation using the city-scale nonlinear time history analysis. Earthquake Spectra. 2020;36(2):806-831. doi:10.1177/8755293019891724"
   ]
  },
  {
   "cell_type": "markdown",
   "id": "6c079e75-7f2c-4b91-accc-7c847eb25911",
   "metadata": {},
   "source": [
    "## Initialize Libraries ##"
   ]
  },
  {
   "cell_type": "code",
   "execution_count": null,
   "id": "65e74839-410e-4170-832f-ba3c5af9fde9",
   "metadata": {},
   "outputs": [],
   "source": [
    "import numpy as np\n",
    "import pandas as pd\n",
    "import matplotlib.pyplot as plt\n",
    "\n",
    "# Import the classes necessary for structural analysis\n",
    "from openquake.vmtk.units         import units              # oq-vtmk units class\n",
    "from openquake.vmtk.modeller      import modeller           # oq-vmtk numerical modelling and analysis module\n",
    "from openquake.vmtk.calibration   import calibrate_model    # oq-vmtk sdof-to-mdof calibration module"
   ]
  },
  {
   "cell_type": "markdown",
   "id": "e3d68165-b61d-4691-b645-3a25f88ebab3",
   "metadata": {},
   "source": [
    "## Example 1: Compiling an SDOF model ##"
   ]
  },
  {
   "cell_type": "markdown",
   "id": "54a71469-4f89-4590-b858-d24d0f1eef72",
   "metadata": {},
   "source": [
    "### Required SDOF Modelling Input Parameters ###"
   ]
  },
  {
   "cell_type": "code",
   "execution_count": null,
   "id": "f1c22196-22c6-4ef3-a44a-26d62dd2488a",
   "metadata": {},
   "outputs": [],
   "source": [
    "# Number of storeys\n",
    "number_storeys = 1 # Set to 1 for SDOFs\n",
    "\n",
    "# Relative floor heights list\n",
    "floor_height = [2.80]\n",
    "\n",
    "# Relative floor masses list\n",
    "floor_mass = [1.0] # Unit mass for SDOFs\n",
    "\n",
    "# SDOF capacity (First row are Spectral Displacement [m] values - Second row are Spectral Acceleration [g] values)\n",
    "sdof_capacity = np.array([\n",
    "                          [0.00060789, 0.00486316, 0.02420000, 0.04353684],   # displacements\n",
    "                          [0.10315200, 0.20630401, 0.12378241, 0.12502023]    # accelerations\n",
    "                         ])\n",
    "# Flag to activate default stiffness-strength degradation and pinching4\n",
    "sdof_degradation = True"
   ]
  },
  {
   "cell_type": "markdown",
   "id": "e2a2ee37-b539-49dc-a798-4f51ad7b2ec0",
   "metadata": {},
   "source": [
    "### Compile SDOF Oscillator in OpenSees ###"
   ]
  },
  {
   "cell_type": "code",
   "execution_count": null,
   "id": "df2572c7-dc88-4791-862d-30fd564cf75f",
   "metadata": {},
   "outputs": [],
   "source": [
    "### Compile the SDOF model    \n",
    "model = modeller(number_storeys,\n",
    "                 floor_height,\n",
    "                 floor_mass,\n",
    "                 sdof_capacity[0, :][np.newaxis, :],          # (1 x 4) displacements\n",
    "                 (sdof_capacity[1, :]*units.g)[np.newaxis, :],# (1 x 4) accelerations\n",
    "                 sdof_degradation)                            # Initialise the class (Build the model)\n",
    "model.compile_model()                                         # Compile the MDOF model    \n",
    "\n",
    "### View the model\n",
    "model.plot_model()                           # Visualise the model    "
   ]
  },
  {
   "cell_type": "markdown",
   "id": "0399c45a-039d-4a0b-acfc-8c8264d965a4",
   "metadata": {},
   "source": [
    "## Example 2: Compiling an MDOF Stick-and-Mass Model ##"
   ]
  },
  {
   "cell_type": "markdown",
   "id": "890338ce-7f74-468b-83e3-932f687b44fd",
   "metadata": {},
   "source": [
    "### Required MDOF Modelling Input Parameters ###"
   ]
  },
  {
   "cell_type": "code",
   "execution_count": null,
   "id": "e01c0e9c-495c-402b-b6de-9c6dddaa9bd5",
   "metadata": {},
   "outputs": [],
   "source": [
    "# Number of storeys\n",
    "number_storeys = 3 \n",
    "\n",
    "# Relative floor heights list\n",
    "floor_heights = [3.00, 3.00, 3.00]\n",
    "\n",
    "# Relative floor masses list\n",
    "floor_masses = [1.00, 1.00, 1.00] \n",
    "\n",
    "# SDOF capacity (First row are Spectral Displacement [m] values - Second row are Spectral Acceleration [g] values)\n",
    "# 3 storeys × 4 points each\n",
    "storey_disps = np.array([\n",
    "    [0.005, 0.010, 0.020, 0.030],   # storey 1\n",
    "    [0.006, 0.012, 0.025, 0.035],   # storey 2\n",
    "    [0.007, 0.014, 0.030, 0.040]    # storey 3\n",
    "])\n",
    "\n",
    "storey_forces = np.array([\n",
    "    [100, 200, 150, 120],  # storey 1\n",
    "    [120, 240, 180, 140],  # storey 2\n",
    "    [140, 280, 200, 160]   # storey 3\n",
    "]) * units.kN   # or *units.g depending on definition\n",
    "\n",
    "# Flag to activate default stiffness-strength degradation and pinching4\n",
    "mdof_degradation = True"
   ]
  },
  {
   "cell_type": "markdown",
   "id": "13f581d7-2181-4d58-a479-27a55198024a",
   "metadata": {},
   "source": [
    "### Compile MDOF Stick-and-Mass Model in OpenSees ###"
   ]
  },
  {
   "cell_type": "code",
   "execution_count": null,
   "id": "6fe84c90-191e-4520-b816-e3dd871e7cdf",
   "metadata": {},
   "outputs": [],
   "source": [
    "### Compile the SDOF model    \n",
    "model = modeller(number_storeys,\n",
    "                 floor_heights,\n",
    "                 floor_masses,\n",
    "                 storey_disps,          # (1 x 4) displacements\n",
    "                 storey_forces,         # (1 x 4) accelerations\n",
    "                 mdof_degradation)                            # Initialise the class (Build the model)\n",
    "model.compile_model()                                         # Compile the MDOF model    \n",
    "\n",
    "### View the model\n",
    "model.plot_model(export_path = 'model.png')                        # Visualise the model and export figure    \n",
    "\n",
    "### Perform modal analysis\n",
    "T, mode_shapes = model.do_modal_analysis(num_modes=3,\n",
    "                                         pflag=True, \n",
    "                                         export_path= 'modal_summary.png')          # Run modal analysis, produce a simplified report and export figure"
   ]
  },
  {
   "cell_type": "markdown",
   "id": "974821ac-be9e-4fb3-8e74-5831c4d54aec",
   "metadata": {},
   "source": [
    "## Example 3: Calibrating and Compiling an MDOF Stick-and-Mass Model Based on SDOF Capacity ##"
   ]
  },
  {
   "cell_type": "markdown",
   "id": "c4f08bba-d4cc-4ca9-aa15-a46612a179f5",
   "metadata": {},
   "source": [
    "### Required SDOF Modelling Input Parameters for MDOF Model Calibration ###"
   ]
  },
  {
   "cell_type": "code",
   "execution_count": null,
   "id": "e897a0c1-47ed-469b-bdb6-61d7f23a14e9",
   "metadata": {},
   "outputs": [],
   "source": [
    "# Number of storeys\n",
    "number_storeys = 2\n",
    "\n",
    "# Relative floor heights list\n",
    "floor_heights = [2.80, 2.80]\n",
    "\n",
    "# First-mode based participation factor\n",
    "gamma = 1.33\n",
    "\n",
    "# SDOF capacity (First row are Spectral Displacement [m] values - Second row are Spectral Acceleration [g] values)\n",
    "sdof_capacity = np.array([[0.00060789, 0.00486316, 0.02420000, 0.04353684], \n",
    "                          [0.10315200, 0.20630401, 0.12378241, 0.12502023]]).T\n",
    "# Frame flag\n",
    "isFrame = False\n",
    "\n",
    "# Soft-storey mechanism flag\n",
    "isSOS = False\n",
    "\n",
    "# Degradation flag \n",
    "mdof_degradation = True\n",
    "\n",
    "# Inherent damping \n",
    "mdof_damping = 0.05"
   ]
  },
  {
   "cell_type": "markdown",
   "id": "7879558c-8819-45f1-8242-49445c6ca320",
   "metadata": {},
   "source": [
    "### Calibrate an MDOF Model based on SDOF Capacity ###"
   ]
  },
  {
   "cell_type": "markdown",
   "id": "4f02573a-d544-441a-912c-34777fedff60",
   "metadata": {},
   "source": [
    "#### The calibration function (calibrate_model) requires five input arguments:\n",
    "1. Number of storeys\n",
    "2. First-mode transformation factor (gamma)\n",
    "3. The capacity array of the single degree-of-freedom oscillator\n",
    "4. Boolean flag whether the lateral load-resisting system for the considered building class is moment-resisting frames or braced frames (or not)\n",
    "5. Boolean flag whether the building class expects a soft-storey mechanism to be activated (or not)\n",
    "#### The calibration function (calibrate_model) returns four output variables:\n",
    "1. The floor mass array to be assigned to the MDOF model generator (floor_masses)\n",
    "2. The storey deformation (in m) capacity to be assigned to the MDOF model generator (storey_disps)\n",
    "3. The acceleration capacity (in g) to be assigned to the MDOF model generator (storey_forces)\n",
    "4. The considered mode shape (mdof_phi)"
   ]
  },
  {
   "cell_type": "code",
   "execution_count": null,
   "id": "2dafd575-43ab-4dc8-b783-a689b2e4d8ef",
   "metadata": {},
   "outputs": [],
   "source": [
    "# Calibrate the model using the Lu et al. (2020) method\n",
    "floor_masses, storey_disps, storey_forces, mdof_phi = calibrate_model(number_storeys, gamma, sdof_capacity, isFrame, isSOS)\n",
    "\n",
    "print('The mass of each floor (in tonnes):', floor_masses)\n",
    "print('The first-mode shape used for calibration:', mdof_phi)\n",
    "\n",
    "# Plot the capacities to visualise the outcome of the calibration\n",
    "for i in range(storey_disps.shape[0]):\n",
    "   plt.plot(np.concatenate(([0.0], storey_disps[i,:])), np.concatenate(([0.0], storey_forces[i,:]*9.81)), label = f'Storey #{i+1}')\n",
    "plt.plot(np.concatenate(([0.0], sdof_capacity[:,0])), np.concatenate(([0.0], sdof_capacity[:,1]*9.81)), label = 'SDOF Capacity')\n",
    "plt.xlabel('Storey Deformation [m]', fontsize= 16)\n",
    "plt.ylabel('Storey Shear [kN]', fontsize = 16)\n",
    "plt.legend(loc = 'lower right')\n",
    "plt.grid(visible=True, which='major')\n",
    "plt.grid(visible=True, which='minor')\n",
    "plt.xlim([0.00, 0.03])\n",
    "plt.show()"
   ]
  },
  {
   "cell_type": "markdown",
   "id": "39ee82ee-6fe8-43af-b156-8042c2f6236e",
   "metadata": {},
   "source": [
    "### Compile MDOF Stick-and-Mass Model in OpenSees ###"
   ]
  },
  {
   "cell_type": "code",
   "execution_count": null,
   "id": "ec1160d4-f77f-473a-85cb-3cd96e3d8283",
   "metadata": {},
   "outputs": [],
   "source": [
    "### Compile the SDOF model    \n",
    "model = modeller(number_storeys,\n",
    "                 floor_heights,\n",
    "                 floor_masses,\n",
    "                 storey_disps,          # (1 x 4) displacements\n",
    "                 storey_forces,         # (1 x 4) accelerations\n",
    "                 mdof_degradation)                            # Initialise the class (Build the model)\n",
    "model.compile_model()                                         # Compile the MDOF model    \n",
    "\n",
    "### View the model\n",
    "model.plot_model()                           # Visualise the model      "
   ]
  }
 ],
 "metadata": {
  "kernelspec": {
   "display_name": "Python 3 (ipykernel)",
   "language": "python",
   "name": "python3"
  },
  "language_info": {
   "codemirror_mode": {
    "name": "ipython",
    "version": 3
   },
   "file_extension": ".py",
   "mimetype": "text/x-python",
   "name": "python",
   "nbconvert_exporter": "python",
   "pygments_lexer": "ipython3",
   "version": "3.11.9"
  }
 },
 "nbformat": 4,
 "nbformat_minor": 5
}
