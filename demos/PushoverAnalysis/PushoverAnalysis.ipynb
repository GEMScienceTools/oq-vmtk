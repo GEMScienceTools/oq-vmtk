{
 "cells": [
  {
   "cell_type": "markdown",
   "id": "c56e824c-36d5-4f07-8f17-7b481be12f44",
   "metadata": {},
   "source": [
    "# Pushover Analysis on MDOF Stick Model\n",
    "\n",
    "## Introduction\n",
    "\n",
    "This Jupyter Notebook outlines a structured workflow for conducting pushover analysis on multi-degree-of-freedom (MDOF) structural models using OpenSees. Pushover analysis is a static, nonlinear procedure that helps assess the inelastic behavior and capacity of structures under increasing lateral loads, simulating the effects of seismic demand in a simplified manner.\n",
    "\n",
    "The analysis focuses on building models representative of typical structures located in seismic-prone regions, such as L'Aquila, and explores their performance through monotonic and cyclic pushover procedures. Unlike time-history analysis, which uses dynamic input, pushover analysis incrementally applies lateral forces or displacements to assess structural response and identify limit states.\n",
    "\n",
    "The main goals of this notebook:\n",
    "\n",
    "1. **Calibrate MDOF models based on single-degree-of-freedom (SDoF) oscillator capacity**: Calibrate storey-based force-deformation relationships using SDOF capacity curve definition (spectral displacement-spectral acceleration) based on the methodology of Lu et al. (2020) and other modifications to account for distinct response typologies (i.e., bilinear, trilinear and quadrilinear backbone definitions)\n",
    "\n",
    "2. **Compile and construct MDOF Models in OpenSees**: Define and assemble MDOF models by specifying essential structural properties, including: mass, height, fundamental period, and the nonlinear behavior at each degree of freedom, including plastic hinges or other inelastic mechanisms\n",
    "\n",
    "3. **Run Static (Monotonic) Pushover Analysis in OpenSees**: Apply a monotonically increasing lateral load (typically using a predefined force or displacement pattern such as inverted triangular or uniform) until structural collapse or a target displacement is reached. Extract key response metrics such as base shear vs. roof displacement/maximum interstorey drift curves (capacity curves)\n",
    "\n",
    "4. **Run Cyclic Pushover Analysis in OpenSees**: Apply cyclic loading protocols to assess structural degradation, stiffness deterioration, and strength loss under repeated loading. This allows for evaluation of energy dissipation capacity, hysteretic response, etc.\n",
    "\n",
    "---\n",
    "\n",
    "## References\n",
    "\n",
    "[1] Lu X, McKenna F, Cheng Q, Xu Z, Zeng X, Mahin SA. An open-source framework for regional earthquake loss estimation using the city-scale nonlinear time history analysis. Earthquake Spectra. 2020;36(2):806-831. doi:10.1177/8755293019891724"
   ]
  },
  {
   "cell_type": "markdown",
   "id": "6c079e75-7f2c-4b91-accc-7c847eb25911",
   "metadata": {},
   "source": [
    "## Initialize Libraries ##"
   ]
  },
  {
   "cell_type": "code",
   "execution_count": null,
   "id": "65e74839-410e-4170-832f-ba3c5af9fde9",
   "metadata": {},
   "outputs": [],
   "source": [
    "import numpy as np\n",
    "import pandas as pd\n",
    "import matplotlib.pyplot as plt\n",
    "\n",
    "# Import the classes necessary for structural analysis\n",
    "from openquake.vmtk.units         import units              # oq-vtmk units class\n",
    "from openquake.vmtk.calibration   import calibrate_model    # oq-vmtk sdof-to-mdof calibration class\n",
    "from openquake.vmtk.modeller      import modeller           # oq-vmtk numerical modelling class"
   ]
  },
  {
   "cell_type": "markdown",
   "id": "54a71469-4f89-4590-b858-d24d0f1eef72",
   "metadata": {},
   "source": [
    "## Required SDOF Modelling Input Parameters for MDOF Model Calibration ##"
   ]
  },
  {
   "cell_type": "code",
   "execution_count": null,
   "id": "f1c22196-22c6-4ef3-a44a-26d62dd2488a",
   "metadata": {},
   "outputs": [],
   "source": [
    "# Number of storeys\n",
    "number_storeys = 2\n",
    "\n",
    "# Relative floor heights list\n",
    "floor_heights = [2.80, 2.80]\n",
    "\n",
    "# First-mode based participation factor\n",
    "gamma = 1.33\n",
    "\n",
    "# SDOF capacity (First row are Spectral Displacement [m] values - Second row are Spectral Acceleration [g] values)\n",
    "sdof_capacity = np.array([[0.00060789, 0.00486316, 0.02420000, 0.04353684], \n",
    "                          [0.10315200, 0.20630401, 0.12378241, 0.12502023]]).T\n",
    "# Frame flag\n",
    "isFrame = False\n",
    "\n",
    "# Soft-storey mechanism flag\n",
    "isSOS = False\n",
    "\n",
    "# Degradation flag \n",
    "mdof_degradation = True\n",
    "\n",
    "# Inherent damping \n",
    "mdof_damping = 0.05"
   ]
  },
  {
   "cell_type": "markdown",
   "id": "a2d04155-1e15-4570-9fdd-ea915630ac5a",
   "metadata": {},
   "source": [
    "## MDOF Stick Model Calibration Based on SDOF Oscillator Capacity ##"
   ]
  },
  {
   "cell_type": "markdown",
   "id": "807c0c8b-098f-44c2-bbac-1809cf965fc6",
   "metadata": {},
   "source": [
    "#### The calibration function (calibrate_model) requires five input arguments:\n",
    "1. Number of storeys\n",
    "2. First-mode transformation factor (gamma)\n",
    "3. The capacity array of the single degree-of-freedom oscillator\n",
    "4. Boolean flag whether the lateral load-resisting system for the considered building class is moment-resisting frames or braced frames (or not)\n",
    "5. Boolean flag whether the building class expects a soft-storey mechanism to be activated (or not)\n",
    "#### The calibration function (calibrate_model) returns four output variables:\n",
    "1. The floor mass array to be assigned to the MDOF model generator (floor_masses)\n",
    "2. The storey deformation (in m) capacity to be assigned to the MDOF model generator (storey_disps)\n",
    "3. The acceleration capacity (in g) to be assigned to the MDOF model generator (storey_forces)\n",
    "4. The considered mode shape (mdof_phi)"
   ]
  },
  {
   "cell_type": "code",
   "execution_count": null,
   "id": "93b7b1a6-6f98-411c-95b4-b662565daf14",
   "metadata": {},
   "outputs": [],
   "source": [
    "# Calibrate the model using the Lu et al. (2020) method\n",
    "floor_masses, storey_disps, storey_forces, mdof_phi = calibrate_model(number_storeys, gamma, sdof_capacity, isFrame, isSOS)\n",
    "\n",
    "print('The mass of each floor (in tonnes):', floor_masses)\n",
    "print('The first-mode shape used for calibration:', mdof_phi)\n",
    "\n",
    "# Plot the capacities to visualise the outcome of the calibration\n",
    "for i in range(storey_disps.shape[0]):\n",
    "   plt.plot(np.concatenate(([0.0], storey_disps[i,:])), np.concatenate(([0.0], storey_forces[i,:]*9.81)), label = f'Storey #{i+1}')\n",
    "plt.plot(np.concatenate(([0.0], sdof_capacity[:,0])), np.concatenate(([0.0], sdof_capacity[:,1]*9.81)), label = 'SDOF Capacity')\n",
    "plt.xlabel('Storey Deformation [m]', fontsize= 16)\n",
    "plt.ylabel('Storey Shear [kN]', fontsize = 16)\n",
    "plt.legend(loc = 'lower right')\n",
    "plt.grid(visible=True, which='major')\n",
    "plt.grid(visible=True, which='minor')\n",
    "plt.xlim([0.00, 0.03])\n",
    "plt.show()"
   ]
  },
  {
   "cell_type": "markdown",
   "id": "e2a2ee37-b539-49dc-a798-4f51ad7b2ec0",
   "metadata": {},
   "source": [
    "## Compile and construct MDOF Stick Model & Run Static (Monotonic) Pushover Analysis in OpenSees ## "
   ]
  },
  {
   "cell_type": "code",
   "execution_count": null,
   "id": "df2572c7-dc88-4791-862d-30fd564cf75f",
   "metadata": {},
   "outputs": [],
   "source": [
    "### Compile the MDOF model    \n",
    "model = modeller(number_storeys,\n",
    "                 floor_heights,\n",
    "                 floor_masses,\n",
    "                 storey_disps,\n",
    "                 storey_forces*units.g,\n",
    "                 mdof_degradation)         # Initialise the class (Build the model)\n",
    "model.compile_model()                      # Compile the MDOF model    \n",
    "\n",
    "### View the model\n",
    "model.plot_model()                         # Visualise the model      \n",
    "\n",
    "### Do gravity analysis\n",
    "model.do_gravity_analysis()                # Do gravity analysis\n",
    "\n",
    "### Do modal analysis\n",
    "T, phi = model.do_modal_analysis(num_modes = number_storeys,\n",
    "                                plot_modes= False)   # Do modal analysis and get period of vibration\n",
    "\n",
    "### Define pushover analysis parameters\n",
    "ref_disp = 0.005       # Reference displacement\n",
    "disp_scale_factor = 15 # Multiplier of the reference displacement\n",
    "push_dir = 1           # Push direction (for X-direction:1, for Y-direction=2)\n",
    "phi = mdof_phi         # Load pattern (In this example, we apply the first-mode shape obtained from the calibration method)\n",
    "\n",
    "### Do pushover analysis\n",
    "results = model.do_spo_analysis(ref_disp, \n",
    "                                disp_scale_factor, \n",
    "                                push_dir, \n",
    "                                phi, \n",
    "                                pflag=False, \n",
    "                                num_steps=200, \n",
    "                                ansys_soe='BandGeneral', \n",
    "                                constraints_handler='Transformation', \n",
    "                                numberer='RCM', \n",
    "                                test_type='EnergyIncr', \n",
    "                                init_tol=1.0e-5, \n",
    "                                init_iter=1000, \n",
    "                                algorithm_type='KrylovNewton',\n",
    "                                save_animation_path = 'spo_animation.gif')\n",
    "\n",
    "print('ANALYSIS COMPLETED!')"
   ]
  },
  {
   "cell_type": "markdown",
   "id": "62e961af-8fe1-4a76-8685-772deb058bc6",
   "metadata": {},
   "source": [
    "## Explore the Results of the Static Pushover Analysis ##"
   ]
  },
  {
   "cell_type": "code",
   "execution_count": null,
   "id": "5623243b-4a4b-4996-b467-14e91595ac1f",
   "metadata": {},
   "outputs": [],
   "source": [
    "### Unpack the SPO results\n",
    "\n",
    "spo_disps         = results['spo_disps']         # Displacements at each control node (i.e., floor)\n",
    "spo_rxn           = results['spo_rxn']           # Reaction at base (Base shear)\n",
    "spo_disps_spring  = results['spo_disps_spring']  # Displacements in nonlinear springs (i.e., zero-length elements)\n",
    "spo_forces_spring = results['spo_forces_spring'] # Forces in nonlinear springs (i.e., zero-length elements)\n",
    "spo_idr           = results['spo_idr']           # Interstorey drifts ratios\n",
    "spo_midr          = results['spo_midr']          # Maximum interstorey drifts\n",
    "\n",
    "### Plot Static Pushover Results\n",
    "plt.figure(figsize=(8, 6))\n",
    "plt.plot(spo_midr, spo_rxn, linestyle='-', linewidth=2, color = 'red', label = 'Static Pushover Curve')\n",
    "\n",
    "# Add axis labels and title\n",
    "plt.xlabel(\"Maximum Interstorey Drift Ratio (%)\", fontsize=12)\n",
    "plt.ylabel(\"Base Shear (kN)\", fontsize=12)\n",
    "plt.title(\"Static (Monotonic) Pushover Curve\", fontsize=14)\n",
    "\n",
    "# Annotate the peak point\n",
    "max_idx = np.argmax(spo_rxn)\n",
    "plt.plot(spo_midr[max_idx], spo_rxn[max_idx], 'ro')\n",
    "plt.annotate(f'Max\\n({spo_midr[max_idx]:.2f}%, {spo_rxn[max_idx]:.1f} kN)',\n",
    "             xy=(spo_midr[max_idx], spo_rxn[max_idx]),\n",
    "             xytext=(spo_midr[max_idx] + 0.1, spo_rxn[max_idx] * 0.9),\n",
    "             arrowprops=dict(arrowstyle='->'))\n",
    "\n",
    "# Add grid and show\n",
    "plt.grid(True, linestyle='--', alpha=0.6)\n",
    "plt.tight_layout()\n",
    "plt.show()"
   ]
  },
  {
   "cell_type": "markdown",
   "id": "440eae2f-743b-46d1-8821-6545cc4d8f14",
   "metadata": {},
   "source": [
    "## Compile and construct MDOF Stick Model & Run Cyclic Pushover Analysis in OpenSees ##"
   ]
  },
  {
   "cell_type": "code",
   "execution_count": null,
   "id": "3b36c3e5-adb5-42a1-85bc-726e7032ac51",
   "metadata": {},
   "outputs": [],
   "source": [
    "### Compile the MDOF model    \n",
    "model = modeller(number_storeys,\n",
    "                 floor_heights,\n",
    "                 floor_masses,\n",
    "                 storey_disps,\n",
    "                 storey_forces*units.g,\n",
    "                 mdof_degradation)         # Initialise the class (Build the model)\n",
    "model.compile_model()                      # Compile the MDOF model    \n",
    "\n",
    "### View the model\n",
    "model.plot_model()                         # Visualise the model      \n",
    "\n",
    "### Do gravity analysis\n",
    "model.do_gravity_analysis()                # Do gravity analysis\n",
    "\n",
    "### Do modal analysis\n",
    "T, phi = model.do_modal_analysis(num_modes = number_storeys,\n",
    "                                plot_modes= False)   # Do modal analysis and get period of vibration\n",
    "\n",
    "### Define pushover analysis parameters\n",
    "ref_disp = 0.001                               # Reference displacement\n",
    "mu_levels = [1,2,4,6,8,10,12,15,20,25,30,50]   # Target ductility factor \n",
    "dispIncr = 5                                   # The number of displacement increments for each loading cycle\n",
    "phi = mdof_phi                                 # Load pattern (In this example, we apply the first-mode shape obtained from the calibration method)\n",
    "\n",
    "### Do pushover analysis\n",
    "results = model.do_cpo_analysis(ref_disp,\n",
    "                                mu_levels, \n",
    "                                push_dir, \n",
    "                                dispIncr, \n",
    "                                phi,\n",
    "                                pflag=False, \n",
    "                                ansys_soe='BandGeneral', \n",
    "                                constraints_handler='Transformation', \n",
    "                                numberer='RCM', \n",
    "                                test_type='NormDispIncr', \n",
    "                                init_tol=1.0e-5, \n",
    "                                init_iter=1000,\n",
    "                                algorithm_type='KrylovNewton',\n",
    "                                save_animation_path=\"cpo_animation.gif\")\n",
    "\n",
    "print('ANALYSIS COMPLETED!')"
   ]
  },
  {
   "cell_type": "markdown",
   "id": "e9d22c54-3803-4923-a13c-7288b1ff74ec",
   "metadata": {},
   "source": [
    "## Explore the Results of the Cyclic Pushover Analysis ## "
   ]
  },
  {
   "cell_type": "code",
   "execution_count": null,
   "id": "ac534600-f6a8-44d3-b958-4f4872bc0e39",
   "metadata": {},
   "outputs": [],
   "source": [
    "# Unpack results\n",
    "cpo_disps  = results['cpo_disps']   # Displacements at each control node (i.e., floor)\n",
    "cpo_rxn    = results['cpo_rxn']     # Reaction at base (Base shear)\n",
    "cpo_energy = results['cpo_energy']  # Cumulative Dissipated Energy\n",
    "\n",
    "roof_disp = cpo_disps[:, -1]        # Roof displacement time history\n",
    "\n",
    "### Plot Cyclic Pushover Results with Monotonic Pushover Curve \n",
    "fig, axs = plt.subplots(1, 2, figsize=(14, 6))\n",
    "\n",
    "# --- Subplot 1: Cyclic Pushover Curve ---\n",
    "axs[0].plot(spo_disps[:, -1], spo_rxn, color='red', linewidth=2, label = 'Monotonic Pushover Curve')\n",
    "axs[0].plot(roof_disp, cpo_rxn, color='blue', linewidth=2, linestyle='--', label = 'Cyclic Pushover Curve')\n",
    "axs[0].set_xlabel(\"Roof Displacement (m)\", fontsize=12)\n",
    "axs[0].set_ylabel(\"Base Shear (kN)\", fontsize=12)\n",
    "axs[0].set_title(\"Static and Cyclic Pushover Curves\", fontsize=14)\n",
    "axs[0].grid(True, linestyle='--', alpha=0.6)\n",
    "axs[0].legend()\n",
    "\n",
    "# --- Subplot 2: Cumulative Dissipated Energy ---\n",
    "axs[1].plot(cpo_energy[:, 0], cpo_energy[:, 1], color='green', linewidth=2)\n",
    "axs[1].set_xlabel(\"Pseudo-step\", fontsize=12)\n",
    "axs[1].set_ylabel(\"Cumulative Dissipated Energy (kN·m)\", fontsize=12)\n",
    "axs[1].set_title(\"Cumulative Energy Dissipation\", fontsize=14)\n",
    "axs[1].grid(True, linestyle='--', alpha=0.6)\n",
    "\n",
    "plt.tight_layout()\n",
    "plt.show()"
   ]
  }
 ],
 "metadata": {
  "kernelspec": {
   "display_name": "Python 3 (ipykernel)",
   "language": "python",
   "name": "python3"
  },
  "language_info": {
   "codemirror_mode": {
    "name": "ipython",
    "version": 3
   },
   "file_extension": ".py",
   "mimetype": "text/x-python",
   "name": "python",
   "nbconvert_exporter": "python",
   "pygments_lexer": "ipython3",
   "version": "3.11.9"
  }
 },
 "nbformat": 4,
 "nbformat_minor": 5
}
