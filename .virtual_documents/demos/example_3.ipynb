





import os
import sys
import numpy as np
import pandas as pd
import matplotlib.pyplot as plt

# Import the classes necessary for postprocessing and visualising structural analysis results
from openquake.vmtk.postprocessor import postprocessor
from openquake.vmtk.plotter       import plotter
from openquake.vmtk.utilities     import import_from_pkl

# Initialise the postprocessor and plotter classes
pp = postprocessor()
pl = plotter()





FONTSIZE_1 = 16
FONTSIZE_2 = 14
FONTSIZE_3 = 12

LINEWIDTH_1= 3
LINEWIDTH_2= 2
LINEWIDTH_3 = 1

RESOLUTION = 500

MARKER_SIZE_1 = 100
MARKER_SIZE_2 = 60
MARKER_SIZE_3 = 10

COLOR = "#399283"





# Intensity measures to use for cloud analyses
IMTs      = ['PGA', 'SA(0.3s)', 'SA(0.6s)', 'SA(1.0s)','AvgSA']

# Damage thresholds (maximum peak storey drift values in rad)
damage_thresholds    =  [0.00150, 0.00545, 0.00952, 0.0135] 

# The lower limit to be applied for censoring edp values (below 0.1 the minimum threshold for slight damage is considered a negligible case)
lower_limit = 0.1*damage_thresholds[0]

# The upper limit to be applied for consoring edp values (above 1.5 the maximum threshold is considered a collapse case) 
censored_limit = 1.5*damage_thresholds[-1]   

# Define consequence model to relate structural damage to a decision variable (i.e., expected loss ratio) 
consequence_model = [0.05, 0.20, 0.60, 1.00] # damage-to-loss ratios





# Define the directory of the ground-motion records and import the intensity measure pickle file containing all IMs (processed from example 1)
gm_directory  = './in/records'            

# Import the intensity measure dictionary (output from example 1)
ims           = import_from_pkl(os.path.join(gm_directory, 'imls_esrm20.pkl'))  

# Define the main output directory and import the analysis output from a pickle file using the "import_from_pkl" function from "utilities"
nrha_directory = './out/nltha' 
ansys_dict      = import_from_pkl(os.path.join(nrha_directory, 'ansys_out.pkl')) # processed from example 2








# Loop over the intensity measure types and perform cloud regression to fit the probabilistic seismic demand-capacity model
for _, current_imt in enumerate(IMTs):
    
    # Import the current intensity measure type
    imls = ims[f'{current_imt}']                   

    # Import the engineering demand parameters (i.e., mpsd) from the analysis dictionary (processed from example 2)
    edps = ansys_dict['mdof_max_peak_drift_list']  
    
    # Process cloud analysis results using the "do_cloud_analysis" function called from "postprocessor" 
    # The output will be automatically stored in a dictionary
    cloud_dict = pp.do_cloud_analysis(imls,
                                      edps,
                                      damage_thresholds,
                                      lower_limit,
                                      censored_limit) 
    
    ## Create a figures directory for each building class
    figures_directory = './out/figures' 
    os.makedirs(figures_directory, exist_ok=True)
    
    ## Visualise the cloud analysis results
    pl.plot_cloud_analysis(cloud_dict, 
                          figures_directory, 
                          plot_label = f'cloud_analysis_{current_imt}',
                          xlabel = f'{current_imt} [g]', 
                          ylabel = r'Maximum Peak Storey Drift, $\theta_{max}$ [%]') # The y-axis values of drift are converted to % automatically by the plotter

    ## Visualise the fragility functions
    pl.plot_fragility_analysis(cloud_dict,
                               figures_directory,
                               plot_label = f'fragility_{current_imt}',
                               xlabel = f'{current_imt}')

    ## Visualise the seismic demands
    pl.plot_demand_profiles(ansys_dict['mdof_peak_drift_list'], 
                            ansys_dict['mdof_peak_accel_list'], 
                            ansys_dict['control_nodes'], 
                            figures_directory,
                            plot_label="seismic_demand_profiles") # The y-axis values of drift and acceleration are converted to % and g automatically by the plotter
        
    ## Visualise the entire set of results using subplots
    pl.plot_ansys_results(cloud_dict,
                          ansys_dict['mdof_peak_drift_list'],
                          ansys_dict['mdof_peak_accel_list'],
                          ansys_dict['control_nodes'],
                          figures_directory,
                          plot_label = f'analysis_output_{current_imt}',
                          cloud_xlabel = f'{current_imt}',
                          cloud_ylabel = r'Maximum Peak Storey Drift, $\theta_{max}$ [%]')





# To derive the vulnerability, the consequence model needs to convolved with the fragility functions. 
# To do so, we can use the "get_vulnerability_function" method from the "postprocessor" class.
# Setting the uncertainty to True will additionally calculate the coefficient of variation to explicitly
# consider the uncertainty in the Loss|IM as per Silva et al. (2019)

structural_vulnerability = pp.get_vulnerability_function(cloud_dict['poes'],
                                                         consequence_model,
                                                         uncertainty=True)


# Plot the structural vulnerability function
pl.plot_vulnerability_analysis(structural_vulnerability['IMLs'],
                               structural_vulnerability['Loss'],
                               structural_vulnerability['COV'],
                               'SA(1.0s)',
                               'Structural Loss Ratio',
                               figures_directory,
                               'Structural Vulnerability')


# The output is a DataFrame with three keys: IMLs (i.e., intensity measure levels), Loss and COV
print(structural_vulnerability)



