





import os
import pandas as pd

# Import the classes necessary for postprocessing and visualising storey loss functions
from openquake.vmtk.plotter import plotter
from openquake.vmtk.slf_generator import slf_generator

# Initialise the plotter classe
pl = plotter()





# The set of drift- and acceleration-sensitive inventory of nonstructural components are compatible 
# with the FEMA P-58 database and were obtained using the "Normative Quantity Estimation Tool"
# (https://femap58.atcouncil.org/supporting-materials) assuming a residential occupancy class

inventory_directory = './in/inventory'

# Load the inventory of drift-sensitive components
inventory_psd =pd.read_csv(os.path.join(inventory_directory, 'inventory_psd.csv'))

# Print the drift-sensitive components csv contents
print(inventory_psd.head(5))

# Load the inventory of acceleration-sensitive components
inventory_pfa =pd.read_csv(os.path.join(inventory_directory, 'inventory_pfa.csv'))

# Print the acceleration-sensitive components csv contents
print(inventory_pfa.head(5))





# Number of damage realizations per EDP range
rlz = 500

# Replacement cost value
repCost = 1.0

# Currency conversion rate. This is especially useful if the compiled inventory data 
# is in a foreign currency and needs to be converted to the local market currency.
conversion_rate = 1.0

# Selected regression function. Options include "gpd", "weibull", "papadopoulos", or "lognormal". 
# For more information on the input arguments, refer to the documentation in vmtk/slf_generator.py.
regF = 'gpd'

# Performance grouping flag. Set to True if the user prefers to aggregate all sub-components' SLFs
# into a single performance group (e.g., for drift-sensitive components).
grouping_flag = True





# Initialise the slf_generator class
psd_model = slf_generator(inventory_psd,
                          edp= 'PSD',
                          do_grouping= grouping_flag,
                          conversion = conversion_rate,
                          realizations = rlz,
                          replacement_cost = repCost,
                          regression = regF)

### Generate the SLFs using the "generate()" method
out, cache = psd_model.generate()


# Visualise the drift-sensitive nonstructural components 
# storey loss function using the "plot_slf_model" 
# method from the plotter class

pl.plot_slf_model(out, 
                  cache, 
                  'Interstorey Drift Ratio [-]', 
                  output_directory=None, 
                  plot_label='slf')





# Initialise the slf_generator class
pfa_model = slf_generator(inventory_pfa,
                          edp= 'PFA',
                          do_grouping= grouping_flag,
                          conversion = conversion_rate,
                          realizations = rlz,
                          replacement_cost = repCost,
                          regression = regF)

### Generate the SLFs using the "generate()" method
out, cache = pfa_model.generate()


# Visualise the drift-sensitive nonstructural components 
# storey loss function using the "plot_slf_model" 
# method from the plotter class

pl.plot_slf_model(out, 
                  cache, 
                  'Peak Floor Acceleration [g]', 
                  output_directory=None, 
                  plot_label='slf')



